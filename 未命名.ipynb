{
 "cells": [
  {
   "cell_type": "code",
   "execution_count": 2,
   "id": "da849498-d07e-4247-bf03-bb2314c7c08c",
   "metadata": {},
   "outputs": [],
   "source": [
    "import numpy as np"
   ]
  },
  {
   "cell_type": "code",
   "execution_count": 4,
   "id": "c9145793-2211-49d3-b594-08ba7ac4283d",
   "metadata": {},
   "outputs": [],
   "source": [
    "a=np.zeros([3,3])"
   ]
  },
  {
   "cell_type": "code",
   "execution_count": 6,
   "id": "7b12d093-aeee-4c04-a236-35335193e77b",
   "metadata": {},
   "outputs": [
    {
     "data": {
      "text/plain": [
       "array([[0., 0., 0.],\n",
       "       [0., 0., 0.],\n",
       "       [0., 0., 0.]])"
      ]
     },
     "execution_count": 6,
     "metadata": {},
     "output_type": "execute_result"
    }
   ],
   "source": [
    "a"
   ]
  },
  {
   "cell_type": "code",
   "execution_count": 10,
   "id": "c616d61b-65ad-4c88-ba29-de7502145baf",
   "metadata": {},
   "outputs": [],
   "source": [
    "a[0:2,0:2]=1"
   ]
  },
  {
   "cell_type": "code",
   "execution_count": null,
   "id": "aa82cf9f-324a-4738-8c0b-e57fd68d61de",
   "metadata": {},
   "outputs": [],
   "source": []
  },
  {
   "cell_type": "code",
   "execution_count": 11,
   "id": "06b3f648-45c1-4c03-b11b-f18683895c8e",
   "metadata": {},
   "outputs": [
    {
     "data": {
      "text/plain": [
       "array([[1., 1., 0.],\n",
       "       [1., 1., 0.],\n",
       "       [0., 0., 0.]])"
      ]
     },
     "execution_count": 11,
     "metadata": {},
     "output_type": "execute_result"
    }
   ],
   "source": [
    "a"
   ]
  },
  {
   "cell_type": "code",
   "execution_count": 19,
   "id": "c8aff861-1784-4c8f-a670-d069a7b25f55",
   "metadata": {},
   "outputs": [],
   "source": [
    "import matplotlib.pyplot as plt\n",
    "%matplotlib inline\n"
   ]
  },
  {
   "cell_type": "code",
   "execution_count": null,
   "id": "b660f939-ef28-473a-b599-9d8c9f5cb233",
   "metadata": {},
   "outputs": [],
   "source": []
  },
  {
   "cell_type": "code",
   "execution_count": 20,
   "id": "e900d4ac-5527-4af0-a959-8c9aa97ca530",
   "metadata": {},
   "outputs": [
    {
     "data": {
      "text/plain": [
       "<matplotlib.image.AxesImage at 0x1159979d0>"
      ]
     },
     "execution_count": 20,
     "metadata": {},
     "output_type": "execute_result"
    },
    {
     "data": {
      "image/png": "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\n",
      "text/plain": [
       "<Figure size 432x288 with 1 Axes>"
      ]
     },
     "metadata": {
      "needs_background": "light"
     },
     "output_type": "display_data"
    }
   ],
                                       "cells": [                                      "cells": [                                      "cells": [                                      "cells": [                                      "cells": [                                      "cells": [                                      "cells": [                                      "cells": [                                      "cells": [                                      "cells": [                                      "cells": [                                      "cells": [                                      "cells": [                                      "cells": [                                      "cells": [                                      "cells": [                                      "cells": [
                                        {                                               {                                               {                                               {                                               {                                               {                                               {                                               {                                               {                                               {                                               {                                               {                                               {                                               {                                               {                                               {                                               {
 pe": "code",                            "cell_type": "code",                            "cell_type": "code",                            "cell_type": "code",                            "cell_type": "code",                            "cell_type": "code",                            "cell_type": "code",                            "cell_type": "code",                            "cell_type": "code",                            "cell_type": "code",                            "cell_type": "code",                            "cell_type": "code",                            "cell_type": "code",                            "cell_type": "code",                            "cell_type": "code",                            "cell_type": "code",                            "cell_type": "code",                            "cell_type": "code",
 on_count": 2,                           "execution_count": 2,                           "execution_count": 2,                           "execution_count": 2,                           "execution_count": 2,                           "execution_count": 2,                           "execution_count": 2,                           "execution_count": 2,                           "execution_count": 2,                           "execution_count": 2,                           "execution_count": 2,                           "execution_count": 2,                           "execution_count": 2,                           "execution_count": 2,                           "execution_count": 2,                           "execution_count": 2,                           "execution_count": 2,                           "execution_count": 2,
 a849498-d07e-4247-bf03-bb2314c7c08c",   "id": "da849498-d07e-4247-bf03-bb2314c7c08c",   "id": "da849498-d07e-4247-bf03-bb2314c7c08c",   "id": "da849498-d07e-4247-bf03-bb2314c7c08c",   "id": "da849498-d07e-4247-bf03-bb2314c7c08c",   "id": "da849498-d07e-4247-bf03-bb2314c7c08c",   "id": "da849498-d07e-4247-bf03-bb2314c7c08c",   "id": "da849498-d07e-4247-bf03-bb2314c7c08c",   "id": "da849498-d07e-4247-bf03-bb2314c7c08c",   "id": "da849498-d07e-4247-bf03-bb2314c7c08c",   "id": "da849498-d07e-4247-bf03-bb2314c7c08c",   "id": "da849498-d07e-4247-bf03-bb2314c7c08c",   "id": "da849498-d07e-4247-bf03-bb2314c7c08c",   "id": "da849498-d07e-4247-bf03-bb2314c7c08c",   "id": "da849498-d07e-4247-bf03-bb2314c7c08c",   "id": "da849498-d07e-4247-bf03-bb2314c7c08c",   "id": "da849498-d07e-4247-bf03-bb2314c7c08c",   "id": "da849498-d07e-4247-bf03-bb2314c7c08c",
 a": {},                                 "metadata": {},                                 "metadata": {},                                 "metadata": {},                                 "metadata": {},                                 "metadata": {},                                 "metadata": {},                                 "metadata": {},                                 "metadata": {},                                 "metadata": {},                                 "metadata": {},                                 "metadata": {},                                 "metadata": {},                                 "metadata": {},                                 "metadata": {},                                 "metadata": {},                                 "metadata": {},                                 "metadata": {},
 ": [],                                  "outputs": [],                                  "outputs": [],                                  "outputs": [],                                  "outputs": [],                                  "outputs": [],                                  "outputs": [],                                  "outputs": [],                                  "outputs": [],                                  "outputs": [],                                  "outputs": [],                                  "outputs": [],                                  "outputs": [],                                  "outputs": [],                                  "outputs": [],                                  "outputs": [],                                  "outputs": [],                                  "outputs": [],
 : [                                     "source": [                                     "source": [                                     "source": [                                     "source": [                                     "source": [                                     "source": [                                     "source": [                                     "source": [                                     "source": [                                     "source": [                                     "source": [                                     "source": [                                     "source": [                                     "source": [                                     "source": [                                     "source": [                                     "source": [
  numpy as np"                            "import numpy as np"                            "import numpy as np"                            "import numpy as np"                            "import numpy as np"                            "import numpy as np"                            "import numpy as np"                            "import numpy as np"                            "import numpy as np"                            "import numpy as np"                            "import numpy as np"                            "import numpy as np"                            "import numpy as np"                            "import numpy as np"                            "import numpy as np"                            "import numpy as np"                            "import numpy as np"                            "import numpy as np"
                                         ]                                               ]                                               ]                                               ]                                               ]                                               ]                                               ]                                               ]                                               ]                                               ]                                               ]                                               ]                                               ]                                               ]                                               ]                                               ]                                               ]
                                        },                                              },                                              },                                              },                                              },                                              },                                              },                                              },                                              },                                              },                                              },                                              },                                              },                                              },                                              },                                              },                                              },
                                        {                                               {                                               {                                               {                                               {                                               {                                               {                                               {                                               {                                               {                                               {                                               {                                               {                                               {                                               {                                               {                                               {
 pe": "code",                            "cell_type": "code",                            "cell_type": "code",                            "cell_type": "code",                            "cell_type": "code",                            "cell_type": "code",                            "cell_type": "code",                            "cell_type": "code",                            "cell_type": "code",                            "cell_type": "code",                            "cell_type": "code",                            "cell_type": "code",                            "cell_type": "code",                            "cell_type": "code",                            "cell_type": "code",                            "cell_type": "code",                            "cell_type": "code",                            "cell_type": "code",
 on_count": 4,                           "execution_count": 4,                           "execution_count": 4,                           "execution_count": 4,                           "execution_count": 4,                           "execution_count": 4,                           "execution_count": 4,                           "execution_count": 4,                           "execution_count": 4,                           "execution_count": 4,                           "execution_count": 4,                           "execution_count": 4,                           "execution_count": 4,                           "execution_count": 4,                           "execution_count": 4,                           "execution_count": 4,                           "execution_count": 4,                           "execution_count": 4,
 9145793-2211-49d3-b594-08ba7ac4283d",   "id": "c9145793-2211-49d3-b594-08ba7ac4283d",   "id": "c9145793-2211-49d3-b594-08ba7ac4283d",   "id": "c9145793-2211-49d3-b594-08ba7ac4283d",   "id": "c9145793-2211-49d3-b594-08ba7ac4283d",   "id": "c9145793-2211-49d3-b594-08ba7ac4283d",   "id": "c9145793-2211-49d3-b594-08ba7ac4283d",   "id": "c9145793-2211-49d3-b594-08ba7ac4283d",   "id": "c9145793-2211-49d3-b594-08ba7ac4283d",   "id": "c9145793-2211-49d3-b594-08ba7ac4283d",   "id": "c9145793-2211-49d3-b594-08ba7ac4283d",   "id": "c9145793-2211-49d3-b594-08ba7ac4283d",   "id": "c9145793-2211-49d3-b594-08ba7ac4283d",   "id": "c9145793-2211-49d3-b594-08ba7ac4283d",   "id": "c9145793-2211-49d3-b594-08ba7ac4283d",   "id": "c9145793-2211-49d3-b594-08ba7ac4283d",   "id": "c9145793-2211-49d3-b594-08ba7ac4283d",   "id": "c9145793-2211-49d3-b594-08ba7ac4283d",
